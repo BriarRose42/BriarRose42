{
  "nbformat": 4,
  "nbformat_minor": 0,
  "metadata": {
    "colab": {
      "name": "Untitled0.ipynb",
      "provenance": [],
      "collapsed_sections": [],
      "authorship_tag": "ABX9TyPGHnWalENi8wg/cdsNXW5h",
      "include_colab_link": true
    },
    "kernelspec": {
      "name": "python3",
      "display_name": "Python 3"
    },
    "language_info": {
      "name": "python"
    }
  },
  "cells": [
    {
      "cell_type": "markdown",
      "metadata": {
        "id": "view-in-github",
        "colab_type": "text"
      },
      "source": [
        "<a href=\"https://colab.research.google.com/github/BriarRose42/BriarRose42/blob/main/Untitled0.ipynb\" target=\"_parent\"><img src=\"https://colab.research.google.com/assets/colab-badge.svg\" alt=\"Open In Colab\"/></a>"
      ]
    },
    {
      "cell_type": "code",
      "metadata": {
        "id": "uuyhoKcF7U7Z"
      },
      "source": [
        "#week 1 task 1\n",
        "print(\"hello\")"
      ],
      "execution_count": null,
      "outputs": []
    },
    {
      "cell_type": "code",
      "metadata": {
        "colab": {
          "base_uri": "https://localhost:8080/",
          "height": 129
        },
        "id": "38sVz1KC67-j",
        "outputId": "3611e4c2-257d-4e3e-d688-6533066434a1"
      },
      "source": [
        "#week 1 task 2 \n",
        "print(hello\")\n"
      ],
      "execution_count": null,
      "outputs": [
        {
          "output_type": "error",
          "ename": "SyntaxError",
          "evalue": "ignored",
          "traceback": [
            "\u001b[0;36m  File \u001b[0;32m\"<ipython-input-3-f15805e5f794>\"\u001b[0;36m, line \u001b[0;32m2\u001b[0m\n\u001b[0;31m    print(hello\")\u001b[0m\n\u001b[0m                 ^\u001b[0m\n\u001b[0;31mSyntaxError\u001b[0m\u001b[0;31m:\u001b[0m EOL while scanning string literal\n"
          ]
        }
      ]
    },
    {
      "cell_type": "code",
      "metadata": {
        "id": "cDbcHstapmbx",
        "colab": {
          "base_uri": "https://localhost:8080/"
        },
        "outputId": "eb939d8f-1e6a-4f45-b3d1-bbb071cdef16"
      },
      "source": [
        "#coment task 3\n",
        "starter = input (\"Hello, what is your favourite starter?\")\n",
        "mainC = input (\"What is your favourite main course?\")\n",
        "pud = input (\"What do you like for pudding?\")\n",
        "drink = input (\"Finally, what do you enjoy drinking with meals?\")\n",
        "print (\" Your favourite meal is,\",starter,  \",\" ,mainC, \",\" ,pud, \"and a drink of\",  drink)\n",
        "\n"
      ],
      "execution_count": 2,
      "outputs": [
        {
          "output_type": "stream",
          "text": [
            "Hello, what is your favourite starter?soup\n",
            "What is your favourite main course?fish and chips\n",
            "What do you like for pudding?tiramissu\n",
            "Finally, what do you enjoy drinking with meals?champagne\n",
            " Your favourite meal is, soup , fish and chips , tiramissu and a drink of champagne\n"
          ],
          "name": "stdout"
        }
      ]
    },
    {
      "cell_type": "code",
      "metadata": {
        "colab": {
          "base_uri": "https://localhost:8080/"
        },
        "id": "8E-hrBRMbODw",
        "outputId": "a6b12c6a-20c3-405e-bdd8-dd63b4c2c40c"
      },
      "source": [
        "# task 1\n",
        "import random\n",
        "myName = input (\"Hello! What is your name?\")\n",
        "number = random.randint (1,10)\n",
        "print (\"Well,\" + myName + \"I am thinking of a number between 1 and 10.\")\n",
        "guess = int (input (\"Take a guess:\"))\n",
        "if guess == number:\n",
        "    print (\"Good job,\" + myName + \"!You guessed my number\")\n",
        "else: print (\"Wrong, better luck next time\")"
      ],
      "execution_count": 3,
      "outputs": [
        {
          "output_type": "stream",
          "text": [
            "Hello! What is your name?Liz\n",
            "Well,LizI am thinking of a number between 1 and 10.\n",
            "Take a guess:4\n",
            "Wrong, better luck next time\n"
          ],
          "name": "stdout"
        }
      ]
    },
    {
      "cell_type": "code",
      "metadata": {
        "id": "_cpDsCQTbm5e"
      },
      "source": [
        "# task 2\n",
        "number = int (input (\"Choose a number between 1 and 100\"))\n",
        "if number <30:\n",
        "     print (\"What's purple with long claws? I don't know, but one is crawling on your neck\")\n",
        "elif number == 30:\n",
        "    print (\"What is brown and sticky? A stick\")\n",
        "elif number>30 and number<100: \n",
        "    print (\"What is orange and sounds like a parot? A carrot\")\n",
        "else: \n",
        "    print (\"Invalid number chosen\")"
      ],
      "execution_count": null,
      "outputs": []
    }
  ]
}