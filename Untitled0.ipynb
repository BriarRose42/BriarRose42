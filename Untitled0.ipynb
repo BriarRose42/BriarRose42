{
  "nbformat": 4,
  "nbformat_minor": 0,
  "metadata": {
    "colab": {
      "name": "Untitled0.ipynb",
      "provenance": [],
      "collapsed_sections": [],
      "authorship_tag": "ABX9TyPRLSNHkfQoNpuzAV2emcUO",
      "include_colab_link": true
    },
    "kernelspec": {
      "name": "python3",
      "display_name": "Python 3"
    },
    "language_info": {
      "name": "python"
    }
  },
  "cells": [
    {
      "cell_type": "markdown",
      "metadata": {
        "id": "view-in-github",
        "colab_type": "text"
      },
      "source": [
        "<a href=\"https://colab.research.google.com/github/BriarRose42/BriarRose42/blob/main/Untitled0.ipynb\" target=\"_parent\"><img src=\"https://colab.research.google.com/assets/colab-badge.svg\" alt=\"Open In Colab\"/></a>"
      ]
    },
    {
      "cell_type": "code",
      "metadata": {
        "id": "uuyhoKcF7U7Z"
      },
      "source": [
        "#week 1 task 1\n",
        "print(\"hello\")"
      ],
      "execution_count": null,
      "outputs": []
    },
    {
      "cell_type": "code",
      "metadata": {
        "colab": {
          "base_uri": "https://localhost:8080/",
          "height": 129
        },
        "id": "38sVz1KC67-j",
        "outputId": "3611e4c2-257d-4e3e-d688-6533066434a1"
      },
      "source": [
        "#week 1 task 2 \n",
        "print(hello\")\n"
      ],
      "execution_count": null,
      "outputs": [
        {
          "output_type": "error",
          "ename": "SyntaxError",
          "evalue": "ignored",
          "traceback": [
            "\u001b[0;36m  File \u001b[0;32m\"<ipython-input-3-f15805e5f794>\"\u001b[0;36m, line \u001b[0;32m2\u001b[0m\n\u001b[0;31m    print(hello\")\u001b[0m\n\u001b[0m                 ^\u001b[0m\n\u001b[0;31mSyntaxError\u001b[0m\u001b[0;31m:\u001b[0m EOL while scanning string literal\n"
          ]
        }
      ]
    },
    {
      "cell_type": "code",
      "metadata": {
        "id": "cDbcHstapmbx",
        "colab": {
          "base_uri": "https://localhost:8080/"
        },
        "outputId": "eb939d8f-1e6a-4f45-b3d1-bbb071cdef16"
      },
      "source": [
        "#coment task 3\n",
        "starter = input (\"Hello, what is your favourite starter?\")\n",
        "mainC = input (\"What is your favourite main course?\")\n",
        "pud = input (\"What do you like for pudding?\")\n",
        "drink = input (\"Finally, what do you enjoy drinking with meals?\")\n",
        "print (\" Your favourite meal is,\",starter,  \",\" ,mainC, \",\" ,pud, \"and a drink of\",  drink)\n",
        "\n"
      ],
      "execution_count": 2,
      "outputs": [
        {
          "output_type": "stream",
          "text": [
            "Hello, what is your favourite starter?soup\n",
            "What is your favourite main course?fish and chips\n",
            "What do you like for pudding?tiramissu\n",
            "Finally, what do you enjoy drinking with meals?champagne\n",
            " Your favourite meal is, soup , fish and chips , tiramissu and a drink of champagne\n"
          ],
          "name": "stdout"
        }
      ]
    }
  ]
}